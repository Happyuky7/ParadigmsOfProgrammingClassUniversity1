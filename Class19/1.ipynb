{
 "cells": [
  {
   "cell_type": "markdown",
   "id": "0d5052e7",
   "metadata": {},
   "source": [
    "# Actividades a realizar hoy.\n",
    "\n",
    "1) Crear tabla empleados [rut, nombre, dirrecion, comuna, ciudad].\n",
    "2) Crear tabla prevision [rut, AFP, Sistema de Salud[Fonasa, Isapre]].\n",
    "3) Ingresa datos desde csv (10 registros por tabla).\n",
    "4) Hacer \"SELECT\" tabla empleados, ordenar ciudad de forma decendente.\n",
    "5) Listar nombre de empleados que estan en Fonasa (join, innerjoin).\n",
    "6) Listar empleados que estan en Isapre."
   ]
  },
  {
   "cell_type": "markdown",
   "id": "6821f3df",
   "metadata": {},
   "source": [
    "# Importar todo lo necesario para poder realizar los ejercicios propuestos."
   ]
  },
  {
   "cell_type": "code",
   "execution_count": null,
   "id": "cadf8953",
   "metadata": {},
   "outputs": [],
   "source": [
    "using Pkg\n",
    "Pkg.add(\"Plots\")\n",
    "Pkg.add(\"DataFrames\")\n",
    "Pkg.add(\"CSV\")\n",
    "Pkg.add(\"SQLite\")\n",
    "Pkg.add(\"PrettyTables\")"
   ]
  },
  {
   "cell_type": "markdown",
   "id": "bc3b780a",
   "metadata": {},
   "source": [
    "# I.- Tabla de empleados"
   ]
  },
  {
   "cell_type": "code",
   "execution_count": 2,
   "id": "16a9a7d0",
   "metadata": {},
   "outputs": [
    {
     "name": "stdout",
     "output_type": "stream",
     "text": [
      "Table created successfully.\n"
     ]
    }
   ],
   "source": [
    "using SQLite\n",
    "using DataFrames\n",
    "using PrettyTables\n",
    "\n",
    "# Load a SQLite database.\n",
    "db = SQLite.DB(\"database.db\")\n",
    "\n",
    "SQLite.execute(db, \"\"\"\n",
    "CREATE TABLE IF NOT EXISTS empleados (\n",
    "    rut TEXT,\n",
    "    nombre TEXT,\n",
    "    direccion TEXT,\n",
    "    comuna TEXT,\n",
    "    ciudad TEXT\n",
    "    )\n",
    "\"\"\")\n",
    "\n",
    "# Primt successfully message\n",
    "println(\"Table created successfully.\")\n",
    "\n",
    "# Close the database connection\n",
    "SQLite.close(db)"
   ]
  },
  {
   "cell_type": "markdown",
   "id": "9f18e8b1",
   "metadata": {},
   "source": [
    "## II.- Tabla prevision"
   ]
  },
  {
   "cell_type": "code",
   "execution_count": 3,
   "id": "5f6e6372",
   "metadata": {},
   "outputs": [
    {
     "name": "stdout",
     "output_type": "stream",
     "text": [
      "Table created successfully.\n"
     ]
    }
   ],
   "source": [
    "using SQLite\n",
    "using DataFrames\n",
    "using PrettyTables\n",
    "\n",
    "# Load a SQLite database.\n",
    "db = SQLite.DB(\"database.db\")\n",
    "\n",
    "SQLite.execute(db, \"\"\"\n",
    "CREATE TABLE IF NOT EXISTS prevision (\n",
    "    rut TEXT,\n",
    "    afp TEXT,\n",
    "    sistema_salud TEXT\n",
    "    )\n",
    "\"\"\")\n",
    "\n",
    "# Print successfully message\n",
    "println(\"Table created successfully.\")\n",
    "\n",
    "# Close the database connection\n",
    "SQLite.close(db)"
   ]
  },
  {
   "cell_type": "markdown",
   "id": "bc0637d2",
   "metadata": {},
   "source": [
    "## III.- Ingrese datos desde un CSV para las tablas, un csv para cada tabla."
   ]
  },
  {
   "cell_type": "markdown",
   "id": "fd3edcaf",
   "metadata": {},
   "source": [
    "### III.1.- Para la tabla de empleados."
   ]
  },
  {
   "cell_type": "code",
   "execution_count": 4,
   "id": "3f3cc287",
   "metadata": {},
   "outputs": [],
   "source": [
    "using SQLite\n",
    "using DataFrames\n",
    "using PrettyTables\n",
    "using CSV\n",
    "\n",
    "# Read the CSV file into a DataFrame\n",
    "df = CSV.read(\"empleados.csv\", DataFrame)\n",
    "\n",
    "# Load a SQLite database.\n",
    "db = SQLite.DB(\"database.db\")\n",
    "\n",
    "# Insert data in tables in SQLite database.\n",
    "for row in eachrow(df)\n",
    "    try\n",
    "        SQLite.execute(db, \"INSERT INTO empleados VALUES (?, ?, ?, ?, ?)\", Tuple(row))\n",
    "    catch e\n",
    "        println(\"Error inserting row: \", row)\n",
    "        println(\"Error message: \", e)\n",
    "    end\n",
    "end\n",
    "\n",
    "\n",
    "# Close the database connection\n",
    "SQLite.close(db)"
   ]
  },
  {
   "cell_type": "markdown",
   "id": "10dac9cc",
   "metadata": {},
   "source": [
    "### III.2.- Para la tabla de prevision."
   ]
  },
  {
   "cell_type": "code",
   "execution_count": 5,
   "id": "64f348ff",
   "metadata": {},
   "outputs": [],
   "source": [
    "using SQLite\n",
    "using DataFrames\n",
    "using PrettyTables\n",
    "using CSV\n",
    "\n",
    "# Read the CSV file into a DataFrame\n",
    "df = CSV.read(\"prevision.csv\", DataFrame)\n",
    "\n",
    "# Load a SQLite database.\n",
    "db = SQLite.DB(\"database.db\")\n",
    "\n",
    "# Insert data in tables in SQLite database.\n",
    "for row in eachrow(df)\n",
    "    try\n",
    "        SQLite.execute(db, \"INSERT INTO prevision VALUES (?, ?, ?)\", Tuple(row))\n",
    "    catch e\n",
    "        println(\"Error inserting row: \", row)\n",
    "        println(\"Error message: \", e)\n",
    "    end\n",
    "end\n",
    "\n",
    "# Close the database connection\n",
    "SQLite.close(db)"
   ]
  },
  {
   "cell_type": "markdown",
   "id": "924cf8fb",
   "metadata": {},
   "source": [
    "## IV.- Hacer \"SELECT\" a la tabla de empleados y ordenar las ciudades en forma desendente"
   ]
  },
  {
   "cell_type": "code",
   "execution_count": 6,
   "id": "929bc43b",
   "metadata": {},
   "outputs": [
    {
     "name": "stdout",
     "output_type": "stream",
     "text": [
      "┌─────────────┐\n",
      "│\u001b[1m      ciudad \u001b[0m│\n",
      "│\u001b[90m      String \u001b[0m│\n",
      "├─────────────┤\n",
      "│  Valparaiso │\n",
      "│      Temuco │\n",
      "│    Santiago │\n",
      "│   La Serena │\n",
      "│     Chillan │\n",
      "│ Antofagasta │\n",
      "└─────────────┘\n"
     ]
    }
   ],
   "source": [
    "using SQLite\n",
    "using DataFrames\n",
    "using PrettyTables\n",
    "\n",
    "# Load a SQLite database.\n",
    "db = SQLite.DB(\"database.db\")\n",
    "\n",
    "# Query the database to get the data from the empleados table\n",
    "query = DBInterface.execute(db, \"\"\"\n",
    "SELECT ciudad FROM empleados\n",
    "GROUP BY ciudad\n",
    "ORDER BY ciudad DESC\n",
    "\"\"\")\n",
    "\n",
    "# Convert the query result to a DataFrame\n",
    "df = DataFrame(query)\n",
    "\n",
    "# Print the DataFrame using PrettyTables\n",
    "pretty_table(df)\n",
    "\n",
    "# Close the database connection\n",
    "SQLite.close(db)"
   ]
  },
  {
   "cell_type": "markdown",
   "id": "27beb3bd",
   "metadata": {},
   "source": [
    "## V.- Listar nombre de empleados que estan en Fonasa (join, innerjoin)."
   ]
  },
  {
   "cell_type": "markdown",
   "id": "e2ee661c",
   "metadata": {},
   "source": [
    "### V.1.- Por nombre"
   ]
  },
  {
   "cell_type": "code",
   "execution_count": 7,
   "id": "14d1742e",
   "metadata": {},
   "outputs": [
    {
     "name": "stdout",
     "output_type": "stream",
     "text": [
      "┌────────────────────────┐\n",
      "│\u001b[1m                 nombre \u001b[0m│\n",
      "│\u001b[90m                 String \u001b[0m│\n",
      "├────────────────────────┤\n",
      "│   Camila Rojas Fuentes │\n",
      "│   Valentina Diaz Reyes │\n",
      "│    Jorge Castillo Soto │\n",
      "│   Sebastian Pino Rivas │\n",
      "│  Francisca Araya Munoz │\n",
      "│ Martina Salas Figueroa │\n",
      "└────────────────────────┘\n"
     ]
    }
   ],
   "source": [
    "using SQLite\n",
    "using DataFrames\n",
    "using PrettyTables\n",
    "\n",
    "# Load a SQLite database.\n",
    "db = SQLite.DB(\"database.db\")\n",
    "\n",
    "# Query check if rut this table empleados if this check in the tabla prevision if exits this rut if exits return sistema_salud only if is Fonasa.\n",
    "query = DBInterface.execute(db, \"\"\"\n",
    "SELECT DISTINCT e.nombre FROM empleados e\n",
    "INNER JOIN prevision p ON e.rut = p.rut\n",
    "WHERE p.sistema_salud = 'Fonasa'\n",
    "\"\"\")\n",
    "\n",
    "# Convert the query result to a DataFrame\n",
    "df = DataFrame(query)\n",
    "\n",
    "# Print the DataFrame using PrettyTables\n",
    "pretty_table(df)\n",
    "\n",
    "# Close the database connection\n",
    "SQLite.close(db)"
   ]
  },
  {
   "cell_type": "markdown",
   "id": "49899316",
   "metadata": {},
   "source": [
    "### V.2.- Por Rut"
   ]
  },
  {
   "cell_type": "code",
   "execution_count": 8,
   "id": "7ac0d13b",
   "metadata": {},
   "outputs": [
    {
     "name": "stdout",
     "output_type": "stream",
     "text": [
      "┌──────────────┐\n",
      "│\u001b[1m          rut \u001b[0m│\n",
      "│\u001b[90m       String \u001b[0m│\n",
      "├──────────────┤\n",
      "│ 79.252.528-8 │\n",
      "│ 79.340.308-9 │\n",
      "│  6.933.694-9 │\n",
      "│ 50.820.821-9 │\n",
      "│ 49.614.608-5 │\n",
      "│ 76.768.045-7 │\n",
      "└──────────────┘\n"
     ]
    }
   ],
   "source": [
    "using SQLite\n",
    "using DataFrames\n",
    "using PrettyTables\n",
    "\n",
    "# Load a SQLite database.\n",
    "db = SQLite.DB(\"database.db\")\n",
    "\n",
    "# Query check if rut this table empleados if this check in the tabla prevision if exits this rut if exits return sistema_salud only if is Fonasa.\n",
    "query = DBInterface.execute(db, \"\"\"\n",
    "SELECT DISTINCT e.rut FROM empleados e\n",
    "INNER JOIN prevision p ON e.rut = p.rut\n",
    "WHERE p.sistema_salud = 'Fonasa'\n",
    "\"\"\")\n",
    "\n",
    "# Convert the query result to a DataFrame\n",
    "df = DataFrame(query)\n",
    "\n",
    "# Print the DataFrame using PrettyTables\n",
    "pretty_table(df)\n",
    "\n",
    "# Close the database connection\n",
    "SQLite.close(db)"
   ]
  },
  {
   "cell_type": "markdown",
   "id": "ade70766",
   "metadata": {},
   "source": [
    "## VI.- Listar empleados que estan en Isapre (join, innerjoin)."
   ]
  },
  {
   "cell_type": "markdown",
   "id": "979885c1",
   "metadata": {},
   "source": [
    "### VI.1.- Por nombre"
   ]
  },
  {
   "cell_type": "code",
   "execution_count": 9,
   "id": "6b3ab058",
   "metadata": {},
   "outputs": [
    {
     "name": "stdout",
     "output_type": "stream",
     "text": [
      "┌────────────────────────┐\n",
      "│\u001b[1m                 nombre \u001b[0m│\n",
      "│\u001b[90m                 String \u001b[0m│\n",
      "├────────────────────────┤\n",
      "│ Felipe Torres Aguilera │\n",
      "│   Antonia Morales Vera │\n",
      "│  Nicolas Herrera Leiva │\n",
      "│ Tomas Vargas Contreras │\n",
      "└────────────────────────┘\n"
     ]
    }
   ],
   "source": [
    "using SQLite\n",
    "using DataFrames\n",
    "using PrettyTables\n",
    "\n",
    "# Load a SQLite database.\n",
    "db = SQLite.DB(\"database.db\")\n",
    "\n",
    "# Query check if rut this table empleados if this check in the tabla prevision if exits this rut if exits return sistema_salud only if is  Isapre.\n",
    "query = DBInterface.execute(db, \"\"\"\n",
    "SELECT DISTINCT e.nombre FROM empleados e\n",
    "INNER JOIN prevision p ON e.rut = p.rut\n",
    "WHERE p.sistema_salud = 'Isapre'\n",
    "\"\"\")\n",
    "\n",
    "# Convert the query result to a DataFrame\n",
    "df = DataFrame(query)\n",
    "\n",
    "# Print the DataFrame using PrettyTables\n",
    "pretty_table(df)\n",
    "\n",
    "# Close the database connection\n",
    "SQLite.close(db)"
   ]
  },
  {
   "cell_type": "markdown",
   "id": "9f900b30",
   "metadata": {},
   "source": [
    "### VI.2.- Por Rut"
   ]
  },
  {
   "cell_type": "code",
   "execution_count": 10,
   "id": "f8df082e",
   "metadata": {},
   "outputs": [
    {
     "name": "stdout",
     "output_type": "stream",
     "text": [
      "┌──────────────┐\n",
      "│\u001b[1m          rut \u001b[0m│\n",
      "│\u001b[90m       String \u001b[0m│\n",
      "├──────────────┤\n",
      "│ 14.206.314-K │\n",
      "│ 52.113.580-8 │\n",
      "│ 35.279.896-7 │\n",
      "│ 89.083.628-3 │\n",
      "└──────────────┘\n"
     ]
    }
   ],
   "source": [
    "using SQLite\n",
    "using DataFrames\n",
    "using PrettyTables\n",
    "\n",
    "# Load a SQLite database.\n",
    "db = SQLite.DB(\"database.db\")\n",
    "\n",
    "# Query check if rut this table empleados if this check in the tabla prevision if exits this rut if exits return sistema_salud only if is  Isapre.\n",
    "query = DBInterface.execute(db, \"\"\"\n",
    "SELECT DISTINCT e.rut FROM empleados e\n",
    "INNER JOIN prevision p ON e.rut = p.rut\n",
    "WHERE p.sistema_salud = 'Isapre'\n",
    "\"\"\")\n",
    "\n",
    "# Convert the query result to a DataFrame\n",
    "df = DataFrame(query)\n",
    "\n",
    "# Print the DataFrame using PrettyTables\n",
    "pretty_table(df)\n",
    "\n",
    "# Close the database connection\n",
    "SQLite.close(db)"
   ]
  }
 ],
 "metadata": {
  "kernelspec": {
   "display_name": "Julia 1.11.4",
   "language": "julia",
   "name": "julia-1.11"
  },
  "language_info": {
   "file_extension": ".jl",
   "mimetype": "application/julia",
   "name": "julia",
   "version": "1.11.4"
  }
 },
 "nbformat": 4,
 "nbformat_minor": 5
}
