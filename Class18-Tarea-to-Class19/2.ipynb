{
 "cells": [
  {
   "cell_type": "markdown",
   "id": "991aac5a",
   "metadata": {},
   "source": [
    "- Crear la tabla de races.db\n",
    "- Importar datos desde races.csv\n",
    "- Hacer un select * from ...\n",
    "- Listar 10 primeras registros\n",
    "- Agrupar por año\n",
    "- Contar races por año\n",
    "- Ordenar circuitos de forma decentente"
   ]
  },
  {
   "cell_type": "markdown",
   "id": "14027d31",
   "metadata": {},
   "source": [
    "## Importar cosas necesarias"
   ]
  },
  {
   "cell_type": "code",
   "execution_count": null,
   "id": "b7617ba4",
   "metadata": {},
   "outputs": [],
   "source": [
    "using Pkg\n",
    "Pkg.add(\"SQLite\")\n",
    "Pkg.add(\"DataFrames\")\n",
    "Pkg.add(\"CSV\")\n",
    "Pkg.add(\"PrettyTables\")"
   ]
  },
  {
   "cell_type": "markdown",
   "id": "627577a8",
   "metadata": {},
   "source": [
    "## Crear db"
   ]
  },
  {
   "cell_type": "code",
   "execution_count": null,
   "id": "b685f89b",
   "metadata": {},
   "outputs": [],
   "source": [
    "import SQLite\n",
    "\n",
    "# Create a new SQLite database.\n",
    "db = SQLite.DB(\"races.db\")\n",
    "\n",
    "SQLite.execute(db, \"\"\"\n",
    "CREATE TABLE IF NOT EXISTS races (\n",
    "    raceId INTEGER,\n",
    "    year INTEGER,\n",
    "    round INTEGER,\n",
    "    circuitId INTEGER,\n",
    "    name TEXT,\n",
    "    date TEXT,\n",
    "    time TEXT,\n",
    "    url TEXT\n",
    ");\n",
    "\"\"\")\n",
    "\n",
    "println(\"Database and table created successfully.\")\n"
   ]
  },
  {
   "cell_type": "markdown",
   "id": "592c53fe",
   "metadata": {},
   "source": [
    "## Importar datos a la db"
   ]
  },
  {
   "cell_type": "code",
   "execution_count": null,
   "id": "78772cd4",
   "metadata": {},
   "outputs": [],
   "source": [
    "using SQLite\n",
    "using DataFrames\n",
    "using CSV\n",
    "\n",
    "# Read CSV file into a DataFrame\n",
    "df = CSV.read(\"races.csv\", DataFrame)\n",
    "\n",
    "# Inserty data in tables in SQLite database.\n",
    "for row in eachrow(df)\n",
    "    try\n",
    "        SQLite.execute(db, \"INSERT INTO races VALUES (?, ?, ?, ?, ?, ?, ?, ?)\", Tuple(row))\n",
    "    catch e\n",
    "        println(\"Error inserting row: \", row)\n",
    "        println(\"Error message: \", e)\n",
    "    end\n",
    "end\n",
    "\n",
    "println(\"Data inserted successfully!\")"
   ]
  },
  {
   "cell_type": "markdown",
   "id": "896c27fc",
   "metadata": {},
   "source": [
    "## Hacer un \"SELECT * FROM\""
   ]
  },
  {
   "cell_type": "code",
   "execution_count": null,
   "id": "26fdddb9",
   "metadata": {},
   "outputs": [],
   "source": [
    "using SQLite\n",
    "\n",
    "# load SQLite database\n",
    "db = SQLite.DB(\"races.db\")\n",
    "\n",
    "# Query the database to get all data\n",
    "query = DBInterface.execute(db,\"SELECT * FROM races\")\n",
    "\n",
    "# Print all row data in console.\n",
    "for row in query\n",
    "    println(row)\n",
    "end\n",
    "\n",
    "# Close database connection\n",
    "SQLite.close(db)"
   ]
  },
  {
   "cell_type": "markdown",
   "id": "25bc3c60",
   "metadata": {},
   "source": [
    "## Listar los primeros 10 registros"
   ]
  },
  {
   "cell_type": "code",
   "execution_count": null,
   "id": "5548e6ec",
   "metadata": {},
   "outputs": [],
   "source": [
    "using SQLite\n",
    "using DataFrames\n",
    "using PrettyTables\n",
    "\n",
    "# Load SQLite database\n",
    "db = SQLite.DB(\"races.db\")\n",
    "\n",
    "# Query the database to get initial 10 rows\n",
    "query = DBInterface.execute(db, \n",
    "    \"\"\"\n",
    "    SELECT * FROM races\n",
    "    LIMIT 10\n",
    "    \"\"\")\n",
    "df = DataFrame(query)\n",
    "\n",
    "# Print the DataFrame in a pretty table format\n",
    "pretty_table(df)\n",
    "\n",
    "# Close database connection\n",
    "SQLite.close(db)\n"
   ]
  },
  {
   "cell_type": "markdown",
   "id": "77a78d86",
   "metadata": {},
   "source": [
    "## Agrupar por año"
   ]
  },
  {
   "cell_type": "code",
   "execution_count": null,
   "id": "29237d65",
   "metadata": {},
   "outputs": [],
   "source": [
    "using SQLite\n",
    "using DataFrames\n",
    "using PrettyTables\n",
    "\n",
    "# Load SQLite database\n",
    "db = SQLite.DB(\"races.db\")\n",
    "\n",
    "# Query the database to get all data and sort by year and round\n",
    "query = DBInterface.execute(db, \"\"\"\n",
    "SELECT year, COUNT(circuitId) AS total_circuit\n",
    "FROM races\n",
    "GROUP BY year\n",
    "\"\"\")\n",
    "df = DataFrame(query)\n",
    "\n",
    "# Print the DataFrame in a pretty table format\n",
    "pretty_table(df)\n",
    "\n",
    "# Close database connection\n",
    "SQLite.close(db)"
   ]
  },
  {
   "cell_type": "markdown",
   "id": "c709740b",
   "metadata": {},
   "source": [
    "# Contar races por año"
   ]
  },
  {
   "cell_type": "code",
   "execution_count": null,
   "id": "79a356c7",
   "metadata": {},
   "outputs": [],
   "source": [
    "using SQLite\n",
    "using DataFrames\n",
    "using PrettyTables\n",
    "\n",
    "# Load SQLite database\n",
    "db = SQLite.DB(\"races.db\")\n",
    "\n",
    "# Query the database to get all data\n",
    "query = DBInterface.execute(db, \"\"\"\n",
    "SELECT year, COUNT(raceId) AS total_races\n",
    "FROM races\n",
    "GROUP BY year\n",
    "\"\"\")\n",
    "df = DataFrame(query)\n",
    "\n",
    "# Print the DataFrame in a pretty table format\n",
    "pretty_table(df)\n",
    "\n",
    "# Close database connection\n",
    "SQLite.close(db)"
   ]
  },
  {
   "cell_type": "markdown",
   "id": "87ed4488",
   "metadata": {},
   "source": [
    "## Ordenar circuitos de forma decentente"
   ]
  },
  {
   "cell_type": "code",
   "execution_count": null,
   "id": "522e1f26",
   "metadata": {},
   "outputs": [],
   "source": [
    "using SQLite\n",
    "using DataFrames\n",
    "using PrettyTables\n",
    "\n",
    "# Load SQLite database\n",
    "db = SQLite.DB(\"races.db\")\n",
    "\n",
    "# Query the database order circuitId in descending order\n",
    "query = DBInterface.execute(db, \"\"\"\n",
    "SELECT circuitId, COUNT(raceId) AS total_circuit\n",
    "FROM races\n",
    "GROUP BY circuitId\n",
    "ORDER BY circuitId DESC;\n",
    "\"\"\")\n",
    "df = DataFrame(query)\n",
    "\n",
    "# Print the DataFrame in a pretty table format\n",
    "pretty_table(df)\n",
    "\n",
    "# Close database connection\n",
    "SQLite.close(db)"
   ]
  },
  {
   "cell_type": "markdown",
   "id": "bc236958",
   "metadata": {},
   "source": [
    "# Ahora según lo pedido en clases por el profesor debemos crear 3 graficos de los datos de la base de datos de lo que nosotros queramos, pero que sean esta db de SQLite."
   ]
  },
  {
   "cell_type": "markdown",
   "id": "0d89e86b",
   "metadata": {},
   "source": [
    "## Importamos Plots"
   ]
  },
  {
   "cell_type": "code",
   "execution_count": 15,
   "id": "9a625229",
   "metadata": {},
   "outputs": [],
   "source": [
    "using Pkg\n",
    "Pkg.add(\"Plots\")"
   ]
  },
  {
   "cell_type": "markdown",
   "id": "a8614766",
   "metadata": {},
   "source": [
    "Creamos el primer grafico en este caso de \"cantidad de años en las que se corrio en ese circuito\""
   ]
  },
  {
   "cell_type": "code",
   "execution_count": 16,
   "id": "9da25ed7",
   "metadata": {},
   "outputs": [
    {
     "ename": "MethodError",
     "evalue": "MethodError: no method matching xticks!(::Plots.Plot{Plots.GRBackend}, ::typeof(xticks); rotation::Int64)\nThe function `xticks!` exists, but no method is defined for this combination of argument types.\n\nClosest candidates are:\n  xticks!(::Union{Plots.Plot, Plots.Subplot}, !Matched::AbstractVector{T}, !Matched::AbstractVector{S}; kw...) where {T<:Real, S<:AbstractString}\n   @ Plots C:\\Users\\mathi\\.julia\\packages\\Plots\\3u4B6\\src\\shorthands.jl:489\n  xticks!(::Union{Plots.Plot, Plots.Subplot}, !Matched::Union{Symbol, Tuple{AbstractVector{T}, AbstractVector{S}}, AbstractVector{T}} where {T<:Real, S<:AbstractString}; kw...)\n   @ Plots C:\\Users\\mathi\\.julia\\packages\\Plots\\3u4B6\\src\\shorthands.jl:487\n  xticks!(!Matched::AbstractVector{T}, !Matched::AbstractVector{S}; kw...) where {T<:Real, S<:AbstractString}\n   @ Plots C:\\Users\\mathi\\.julia\\packages\\Plots\\3u4B6\\src\\shorthands.jl:481\n  ...\n",
     "output_type": "error",
     "traceback": [
      "MethodError: no method matching xticks!(::Plots.Plot{Plots.GRBackend}, ::typeof(xticks); rotation::Int64)\n",
      "The function `xticks!` exists, but no method is defined for this combination of argument types.\n",
      "\n",
      "Closest candidates are:\n",
      "  xticks!(::Union{Plots.Plot, Plots.Subplot}, !Matched::AbstractVector{T}, !Matched::AbstractVector{S}; kw...) where {T<:Real, S<:AbstractString}\n",
      "   @ Plots C:\\Users\\mathi\\.julia\\packages\\Plots\\3u4B6\\src\\shorthands.jl:489\n",
      "  xticks!(::Union{Plots.Plot, Plots.Subplot}, !Matched::Union{Symbol, Tuple{AbstractVector{T}, AbstractVector{S}}, AbstractVector{T}} where {T<:Real, S<:AbstractString}; kw...)\n",
      "   @ Plots C:\\Users\\mathi\\.julia\\packages\\Plots\\3u4B6\\src\\shorthands.jl:487\n",
      "  xticks!(!Matched::AbstractVector{T}, !Matched::AbstractVector{S}; kw...) where {T<:Real, S<:AbstractString}\n",
      "   @ Plots C:\\Users\\mathi\\.julia\\packages\\Plots\\3u4B6\\src\\shorthands.jl:481\n",
      "  ...\n",
      "\n",
      "\n",
      "Stacktrace:\n",
      " [1] top-level scope\n",
      "   @ d:\\Development\\UniversityClass\\Paradigmas de la programacion class\\Class18-Tarea-to-Class19\\jl_notebook_cell_df34fa98e69747e1a8f8a730347b8e2f_X30sZmlsZQ==.jl:32"
     ]
    }
   ],
   "source": [
    "using SQLite\n",
    "using DataFrames\n",
    "using Plots\n",
    "using PrettyTables\n",
    "\n",
    "# Load SQLite database\n",
    "db = SQLite.DB(\"races.db\")\n",
    "\n",
    "# Query the database to get year and number of different circuits.\n",
    "query = DBInterface.execute(db, \"\"\"\n",
    "SELECT year, COUNT(DISTINCT circuitId) AS num_circuitos\n",
    "FROM races\n",
    "GROUP BY year\n",
    "ORDER BY year ASC\n",
    "\"\"\")\n",
    "\n",
    "df = DataFrame(query)\n",
    "\n",
    "p = Plots.bar(df.year, df.num_circuitos,\n",
    "    fillcolor = :orange,\n",
    "    linecolor = :orange,\n",
    "    title = \"Número de circuitos diferentes por año\",\n",
    "    xlabel = \"Año\",\n",
    "    ylabel = \"Número de circuitos\",\n",
    "    legend = true,\n",
    "    grid = true,\n",
    "    label = \"Circuitos\",\n",
    "    bar_width = 0.5,\n",
    "    size = (1500, 700))\n",
    "\n",
    "# Configurar el eje X para mostrar todos los años\n",
    "Plots.xticks!(p, xticks, rotation=90)\n",
    "\n",
    "# Display the graph\n",
    "display(p)\n",
    "\n",
    "# Close database connection\n",
    "SQLite.close(db)"
   ]
  },
  {
   "cell_type": "markdown",
   "id": "6b23cc01",
   "metadata": {},
   "source": [
    "creamos un segundo grafico que cuente los tiempos en cada circuito pero usando el nombre de la pista."
   ]
  },
  {
   "cell_type": "code",
   "execution_count": null,
   "id": "010a4fb1",
   "metadata": {},
   "outputs": [],
   "source": [
    "using SQLite\n",
    "using DataFrames\n",
    "using Plots\n",
    "\n",
    "# Load SQLite database\n",
    "db = SQLite.DB(\"races.db\")\n",
    "\n",
    "# Count how many values of time per circuit name\n",
    "query = DBInterface.execute(db, \"\"\"\n",
    "    SELECT name AS circuit_name, COUNT(time) AS time_count\n",
    "    FROM races\n",
    "    GROUP BY name\n",
    "    ORDER BY time_count DESC\n",
    "\"\"\")\n",
    "\n",
    "df_time = DataFrame(query)\n",
    "\n",
    "# Create graph\n",
    "p = bar(df_time.circuit_name, df_time.time_count,\n",
    "    legend=false,\n",
    "    title=\"Cantidad de tiempos registrados por circuito\",\n",
    "    xlabel=\"Circuito\",\n",
    "    ylabel=\"Cantidad de tiempos\",\n",
    "    rotation=60,\n",
    "    size=(1500, 700),\n",
    "    fillcolor=:orange,\n",
    "    bar_width=0.5,\n",
    "    grid=true\n",
    ")\n",
    "\n",
    "display(p)\n",
    "\n",
    "# Close database connection\n",
    "SQLite.close(db)\n"
   ]
  },
  {
   "cell_type": "markdown",
   "id": "084373fc",
   "metadata": {},
   "source": []
  }
 ],
 "metadata": {
  "kernelspec": {
   "display_name": "Julia 1.11.4",
   "language": "julia",
   "name": "julia-1.11"
  },
  "language_info": {
   "file_extension": ".jl",
   "mimetype": "application/julia",
   "name": "julia",
   "version": "1.11.4"
  }
 },
 "nbformat": 4,
 "nbformat_minor": 5
}
