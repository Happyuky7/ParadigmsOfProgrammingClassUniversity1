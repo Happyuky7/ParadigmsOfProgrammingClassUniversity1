{
 "cells": [
  {
   "cell_type": "markdown",
   "id": "3d38447c",
   "metadata": {},
   "source": [
    "### START CODE"
   ]
  },
  {
   "cell_type": "markdown",
   "id": "6a848793",
   "metadata": {},
   "source": [
    "# Pregunta 1\n",
    "\n",
    "Explica el paradigma relacional en bases de datos y su relación con la lógica matemática. \n",
    "Luego, implementa un ejemplo en Julia utilizando SQLite.jl, \n",
    "donde crees una base de datos con una tabla Usuarios (RUT, nombre, edad) e insertes al menos 10 registros.\n",
    "\n",
    "Finalmente, escribe una consulta SQL en Julia para obtener los usuarios mayores de 25 años."
   ]
  },
  {
   "cell_type": "markdown",
   "id": "44e407d9",
   "metadata": {},
   "source": [
    "Explica el paradigma relacional en bases de datos y su relación con la lógica matemática.\n",
    "\n",
    "Explicación del paradigma relacional en bases de datos:\n",
    "- Un paradigma relacional en base de datos es un modelo de datos que organiza la información en tablas, donde cada tabla representa una entidad y las filas representan instancias de esa entidad. Cada columna de la tabla representa un atributo de la entidad. Este paradigma se basa en la teoría de conjuntos y la lógica matemática, lo que permite realizar operaciones como unión, intersección y diferencia entre conjuntos de datos."
   ]
  },
  {
   "cell_type": "markdown",
   "id": "c6696736",
   "metadata": {},
   "source": [
    "## Importar las librerías necesarias"
   ]
  },
  {
   "cell_type": "code",
   "execution_count": null,
   "id": "89400a6e",
   "metadata": {},
   "outputs": [],
   "source": [
    "using Pkg\n",
    "Pkg.add(\"SQLite\")\n",
    "Pkg.add(\"DataFrames\")\n",
    "Pkg.add(\"CSV\")\n",
    "Pkg.add(\"PrettyTables\")"
   ]
  },
  {
   "cell_type": "markdown",
   "id": "f3da7661",
   "metadata": {},
   "source": [
    "## Crear Tabla Usuarios"
   ]
  },
  {
   "cell_type": "code",
   "execution_count": 23,
   "id": "ccc231ba",
   "metadata": {},
   "outputs": [
    {
     "name": "stdout",
     "output_type": "stream",
     "text": [
      "Table created successfully.\n"
     ]
    }
   ],
   "source": [
    "using SQLite\n",
    "using DataFrames\n",
    "\n",
    "# Load SQLite database\n",
    "db = SQLite.DB(\"database.db\")\n",
    "\n",
    "# Create Table in db\n",
    "SQLite.execute(db, \"\"\"\n",
    "CREATE TABLE IF NOT EXISTS usuarios (\n",
    "    rut INTEGER,\n",
    "    nombre TEXT,\n",
    "    edad INTEGER\n",
    ");\n",
    "\"\"\")\n",
    "\n",
    "# Print success message\n",
    "println(\"Table created successfully.\")\n",
    "\n",
    "# Close the database connection\n",
    "SQLite.close(db)"
   ]
  },
  {
   "cell_type": "markdown",
   "id": "a25362ee",
   "metadata": {},
   "source": [
    "## Cargar datos a la tabla Usuarios desde un archivo CSV\n"
   ]
  },
  {
   "cell_type": "code",
   "execution_count": null,
   "id": "a215228f",
   "metadata": {},
   "outputs": [
    {
     "name": "stdout",
     "output_type": "stream",
     "text": [
      "Data inserted successfully.\n"
     ]
    }
   ],
   "source": [
    "using SQLite\n",
    "using DataFrames\n",
    "using CSV\n",
    "\n",
    "# Read CSV file\n",
    "df = CSV.read(\"usuarios.csv\", DataFrame)\n",
    "\n",
    "# Load SQLite database\n",
    "db = SQLite.DB(\"database.db\")\n",
    "\n",
    "# Add data to the table\n",
    "for row in eachrow(df)\n",
    "    try\n",
    "        SQLite.execute(db, \"INSERT INTO usuarios VALUES (?, ?, ?)\", Tuple(row))\n",
    "    catch e\n",
    "        println(\"Error inserting row: \", row)\n",
    "        println(\"Error message: \", e)\n",
    "    end\n",
    "end\n",
    "\n",
    "# Print success message\n",
    "println(\"Data inserted successfully.\")\n",
    "\n",
    "# Close the database connection\n",
    "SQLite.close(db)"
   ]
  },
  {
   "cell_type": "markdown",
   "id": "4aefdb7a",
   "metadata": {},
   "source": [
    "## Hacer una consulta SQL para obtener los usuarios mayores de 25 años"
   ]
  },
  {
   "cell_type": "code",
   "execution_count": null,
   "id": "05f6ada5",
   "metadata": {},
   "outputs": [
    {
     "name": "stdout",
     "output_type": "stream",
     "text": [
      "\u001b[1mUsuarios con edad mayor o igual a 25\u001b[0m\n",
      "┌───────────────────┐\n",
      "│\u001b[1m           Nombres \u001b[0m│\n",
      "├───────────────────┤\n",
      "│        Juan Pérez │\n",
      "│    María González │\n",
      "│  Roberto Martínez │\n",
      "│     Fernando Soto │\n",
      "│     Patricia Vega │\n",
      "│ Alejandro Morales │\n",
      "│    Daniela Castro │\n",
      "│    Felipe Jiménez │\n",
      "│      Isabel López │\n",
      "└───────────────────┘\n"
     ]
    }
   ],
   "source": [
    "using SQLite\n",
    "using DataFrames\n",
    "using PrettyTables\n",
    "\n",
    "# Load SQLite database\n",
    "db = SQLite.DB(\"database.db\")\n",
    "\n",
    "# Query the database\n",
    "query = DBInterface.execute(db, \"\"\"\n",
    "SELECT nombre FROM usuarios\n",
    "WHERE edad >= 25;\n",
    "\"\"\")\n",
    "\n",
    "# Convert the query result to a DataFrame\n",
    "df = DataFrame(query)\n",
    "\n",
    "# Print the DataFrame using PrettyTables\n",
    "pretty_table(df, header = [\"Nombres\"], title = \"Usuarios con edad mayor o igual a 25\")\n",
    "\n",
    "# Close the database connection\n",
    "SQLite.close(db)"
   ]
  },
  {
   "cell_type": "markdown",
   "id": "f6a11764",
   "metadata": {},
   "source": [
    "### END CODE"
   ]
  }
 ],
 "metadata": {
  "kernelspec": {
   "display_name": "Julia 1.11.4",
   "language": "julia",
   "name": "julia-1.11"
  },
  "language_info": {
   "file_extension": ".jl",
   "mimetype": "application/julia",
   "name": "julia",
   "version": "1.11.4"
  }
 },
 "nbformat": 4,
 "nbformat_minor": 5
}
