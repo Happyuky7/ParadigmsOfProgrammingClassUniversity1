{
 "cells": [
  {
   "cell_type": "markdown",
   "id": "991aac5a",
   "metadata": {},
   "source": [
    "- Crear la tabla de races.db\n",
    "- Importar datos desde races.csv\n",
    "- Hacer un select * from ...\n",
    "- Listar 10 primeras registros\n",
    "- Agrupar por año\n",
    "- Contar races por año\n",
    "- Ordenar circuitos de forma decentente"
   ]
  },
  {
   "cell_type": "markdown",
   "id": "14027d31",
   "metadata": {},
   "source": [
    "## Importar cosas necesarias"
   ]
  },
  {
   "cell_type": "code",
   "execution_count": null,
   "id": "b7617ba4",
   "metadata": {},
   "outputs": [],
   "source": [
    "using Pkg\n",
    "Pkg.add(\"SQLite\")\n",
    "Pkg.add(\"DataFrames\")\n",
    "Pkg.add(\"CSV\")\n",
    "Pkg.add(\"PrettyTables\")"
   ]
  },
  {
   "cell_type": "markdown",
   "id": "627577a8",
   "metadata": {},
   "source": [
    "## Crear db"
   ]
  },
  {
   "cell_type": "code",
   "execution_count": null,
   "id": "b685f89b",
   "metadata": {},
   "outputs": [],
   "source": [
    "import SQLite\n",
    "\n",
    "# Create a new SQLite database.\n",
    "db = SQLite.DB(\"races.db\")\n",
    "\n",
    "SQLite.execute(db, \"\"\"\n",
    "CREATE TABLE IF NOT EXISTS races (\n",
    "    raceId INTEGER,\n",
    "    year INTEGER,\n",
    "    round INTEGER,\n",
    "    circuitId INTEGER,\n",
    "    name TEXT,\n",
    "    date TEXT,\n",
    "    time TEXT,\n",
    "    url TEXT\n",
    ");\n",
    "\"\"\")\n",
    "\n",
    "println(\"Database and table created successfully.\")\n"
   ]
  },
  {
   "cell_type": "markdown",
   "id": "592c53fe",
   "metadata": {},
   "source": [
    "## Importar datos a la db"
   ]
  },
  {
   "cell_type": "code",
   "execution_count": null,
   "id": "78772cd4",
   "metadata": {},
   "outputs": [],
   "source": [
    "using SQLite\n",
    "using DataFrames\n",
    "using CSV\n",
    "\n",
    "# Read CSV file into a DataFrame\n",
    "df = CSV.read(\"races.csv\", DataFrame)\n",
    "\n",
    "# Inserty data in tables in SQLite database.\n",
    "for row in eachrow(df)\n",
    "    try\n",
    "        SQLite.execute(db, \"INSERT INTO races VALUES (?, ?, ?, ?, ?, ?, ?, ?)\", Tuple(row))\n",
    "    catch e\n",
    "        println(\"Error inserting row: \", row)\n",
    "        println(\"Error message: \", e)\n",
    "    end\n",
    "end\n",
    "\n",
    "println(\"Data inserted successfully!\")"
   ]
  },
  {
   "cell_type": "markdown",
   "id": "896c27fc",
   "metadata": {},
   "source": [
    "## Hacer un \"SELECT * FROM\""
   ]
  },
  {
   "cell_type": "code",
   "execution_count": null,
   "id": "26fdddb9",
   "metadata": {},
   "outputs": [],
   "source": [
    "using SQLite\n",
    "\n",
    "# load SQLite database\n",
    "db = SQLite.DB(\"races.db\")\n",
    "\n",
    "# Query the database to get all data\n",
    "query = DBInterface.execute(db,\"SELECT * FROM races\")\n",
    "\n",
    "# Print all row data in console.\n",
    "for row in query\n",
    "    println(row)\n",
    "end\n",
    "\n",
    "# Close database connection\n",
    "SQLite.close(db)"
   ]
  },
  {
   "cell_type": "markdown",
   "id": "25bc3c60",
   "metadata": {},
   "source": [
    "## Listar los primeros 10 registros"
   ]
  },
  {
   "cell_type": "code",
   "execution_count": null,
   "id": "5548e6ec",
   "metadata": {},
   "outputs": [],
   "source": [
    "using SQLite\n",
    "using DataFrames\n",
    "using PrettyTables\n",
    "\n",
    "# Load SQLite database\n",
    "db = SQLite.DB(\"races.db\")\n",
    "\n",
    "# Query the database to get initial 10 rows\n",
    "query = DBInterface.execute(db, \n",
    "    \"\"\"\n",
    "    SELECT * FROM races\n",
    "    LIMIT 10\n",
    "    \"\"\")\n",
    "df = DataFrame(query)\n",
    "\n",
    "# Print the DataFrame in a pretty table format\n",
    "pretty_table(df)\n",
    "\n",
    "# Close database connection\n",
    "SQLite.close(db)\n"
   ]
  },
  {
   "cell_type": "markdown",
   "id": "77a78d86",
   "metadata": {},
   "source": [
    "## Agrupar por año"
   ]
  },
  {
   "cell_type": "code",
   "execution_count": null,
   "id": "29237d65",
   "metadata": {},
   "outputs": [],
   "source": [
    "using SQLite\n",
    "using DataFrames\n",
    "using PrettyTables\n",
    "\n",
    "# Load SQLite database\n",
    "db = SQLite.DB(\"races.db\")\n",
    "\n",
    "# Query the database to get all data and sort by year and round\n",
    "query = DBInterface.execute(db, \"\"\"\n",
    "SELECT year, COUNT(circuitId) AS total_circuit\n",
    "FROM races\n",
    "GROUP BY year\n",
    "\"\"\")\n",
    "df = DataFrame(query)\n",
    "\n",
    "# Print the DataFrame in a pretty table format\n",
    "pretty_table(df)\n",
    "\n",
    "# Close database connection\n",
    "SQLite.close(db)"
   ]
  },
  {
   "cell_type": "markdown",
   "id": "c709740b",
   "metadata": {},
   "source": [
    "# Contar races por año"
   ]
  },
  {
   "cell_type": "code",
   "execution_count": null,
   "id": "79a356c7",
   "metadata": {},
   "outputs": [],
   "source": [
    "using SQLite\n",
    "using DataFrames\n",
    "using PrettyTables\n",
    "\n",
    "# Load SQLite database\n",
    "db = SQLite.DB(\"races.db\")\n",
    "\n",
    "# Query the database to get all data\n",
    "query = DBInterface.execute(db, \"\"\"\n",
    "SELECT year, COUNT(raceId) AS total_races\n",
    "FROM races\n",
    "GROUP BY year\n",
    "\"\"\")\n",
    "df = DataFrame(query)\n",
    "\n",
    "# Print the DataFrame in a pretty table format\n",
    "pretty_table(df)\n",
    "\n",
    "# Close database connection\n",
    "SQLite.close(db)"
   ]
  },
  {
   "cell_type": "markdown",
   "id": "87ed4488",
   "metadata": {},
   "source": [
    "## Ordenar circuitos de forma decentente"
   ]
  },
  {
   "cell_type": "code",
   "execution_count": null,
   "id": "522e1f26",
   "metadata": {},
   "outputs": [],
   "source": [
    "using SQLite\n",
    "using DataFrames\n",
    "using PrettyTables\n",
    "\n",
    "# Load SQLite database\n",
    "db = SQLite.DB(\"races.db\")\n",
    "\n",
    "# Query the database order circuitId in descending order\n",
    "query = DBInterface.execute(db, \"\"\"\n",
    "SELECT circuitId, COUNT(raceId) AS total_circuit\n",
    "FROM races\n",
    "GROUP BY circuitId\n",
    "ORDER BY circuitId DESC;\n",
    "\"\"\")\n",
    "df = DataFrame(query)\n",
    "\n",
    "# Print the DataFrame in a pretty table format\n",
    "pretty_table(df)\n",
    "\n",
    "# Close database connection\n",
    "SQLite.close(db)"
   ]
  }
 ],
 "metadata": {
  "kernelspec": {
   "display_name": "Julia 1.11.4",
   "language": "julia",
   "name": "julia-1.11"
  },
  "language_info": {
   "file_extension": ".jl",
   "mimetype": "application/julia",
   "name": "julia",
   "version": "1.11.4"
  }
 },
 "nbformat": 4,
 "nbformat_minor": 5
}
